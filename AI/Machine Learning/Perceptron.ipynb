{
 "cells": [
  {
   "cell_type": "markdown",
   "metadata": {},
   "source": [
    "## Writing the Perceptron Algorithm\n",
    "For a detailed explanation of the Perceptron Algorithm, please refer to the following link: [Perceptron: An Artificial Neural Network to Classify Data](https://apat.io/posts/perceptron-an-artificial-neural-network-to-classify-data)\n",
    "\n",
    "### Running the Code\n",
    "To run the code in this notebook, you can use either Google Colab or Jupyter Notebook. Follow the steps below to execute the code:\n",
    "\n",
    "1. Open Google Colab or Jupyter Notebook.\n",
    "2. Create a new notebook or open an existing one.\n",
    "3. Copy and paste the code cells into the notebook.\n",
    "4. Run each code cell sequentially by clicking the \"Run\" button or using the keyboard shortcut (Shift + Enter).\n",
    "5. Make sure to run the cells in the correct order to avoid any errors or dependencies.\n",
    "\n",
    "Note: If you are using Jupyter Notebook, ensure that the required libraries are installed by running the necessary import statements in a separate code cell.\n",
    "\n",
    "Happy coding!\n",
    "\n",
    "### Importing Libraries and create a dataset\n",
    "We are going to create a dataset of ten people with their age, salary, and debt. We are also going to create an expected output for each person. The expected output is 0 if the person has a good credit score and 1 if the person has a bad credit score."
   ]
  },
  {
   "cell_type": "code",
   "execution_count": 1,
   "metadata": {},
   "outputs": [
    {
     "data": {
      "text/plain": [
       "array([[-1.51252526, -0.81714392],\n",
       "       [-1.2878928 , -0.85965493],\n",
       "       [-0.91350536, -0.46259002],\n",
       "       [-0.53911792,  0.37061165],\n",
       "       [-0.16473047,  1.31017949],\n",
       "       [ 0.20965697,  0.42379473],\n",
       "       [ 0.58404441,  0.95562558],\n",
       "       [ 0.95843185,  1.31017949],\n",
       "       [ 1.18306432, -1.89885242],\n",
       "       [ 1.48257427, -0.33214964]])"
      ]
     },
     "execution_count": 1,
     "metadata": {},
     "output_type": "execute_result"
    }
   ],
   "source": [
    "import numpy as np\n",
    "import matplotlib.pyplot as plt\n",
    "from sklearn.preprocessing import StandardScaler\n",
    "\n",
    "# Dataset of ten people -> [age, salary]\n",
    "dataset = np.array([\n",
    "    [22, 60000],\n",
    "    [25, 58801],\n",
    "    [30, 70000],\n",
    "    [35, 93500],\n",
    "    [40, 120000],\n",
    "    [45, 95000],\n",
    "    [50, 110000],\n",
    "    [55, 120000],\n",
    "    [58, 29491],\n",
    "    [62, 73679]\n",
    "])\n",
    "\n",
    "# Normalize the dataset\n",
    "scaler = StandardScaler()\n",
    "dataset = scaler.fit_transform(dataset)\n",
    "\n",
    "# Expected output\n",
    "expected_output = np.array([0, 0, 0, 1, 1, 1, 1, 1, 0, 1])\n",
    "\n",
    "dataset"
   ]
  },
  {
   "cell_type": "markdown",
   "metadata": {},
   "source": [
    "### Scatter plot of the dataset\n",
    "We are going to create a scatter plot of the dataset to see how the data is distributed."
   ]
  },
  {
   "cell_type": "code",
   "execution_count": 2,
   "metadata": {},
   "outputs": [
    {
     "data": {
      "image/png": "[encoded data removed]",
      "text/plain": [
       "<Figure size 432x288 with 1 Axes>"
      ]
     },
     "metadata": {
      "needs_background": "light"
     },
     "output_type": "display_data"
    }
   ],
   "source": [
    "# Scatter plot\n",
    "plt.scatter(dataset[:, 0], dataset[:, 1], c=expected_output)\n",
    "plt.xlabel('Age')\n",
    "plt.ylabel('Salary')\n",
    "plt.show()"
   ]
  },
  {
   "cell_type": "markdown",
   "metadata": {},
   "source": [
    "As you can see, the data is not linearly separable. This means that we cannot draw a straight line to separate the data into two classes. However, the Perceptron algorithm can still be used to classify the data."
   ]
  },
  {
   "cell_type": "markdown",
   "metadata": {},
   "source": [
    "### Activation function and Perceptron algorithm\n",
    "For this example, we are going to use the tanh activation function. The tanh function is a hyperbolic tangent function that maps the input to the range (-1, 1). The Perceptron algorithm is going to use the tanh function to classify the data."
   ]
  },
  {
   "cell_type": "code",
   "execution_count": 3,
   "metadata": {},
   "outputs": [],
   "source": [
    "# Activation function\n",
    "def activation_function(x):\n",
    "    return np.tanh(x)"
   ]
  },
  {
   "cell_type": "markdown",
   "metadata": {},
   "source": [
    "### Perceptron algorithm\n",
    "The Perceptron algorithm is used to train the Perceptron by adjusting the weights until it correctly classifies the input data. This is done by comparing the output of the Perceptron to the expected output and adjusting the weights accordingly. The parameters of the algorithm are the dataset, the expected output, the learning rate, and the number of epochs.\n",
    "- **Dataset:** The dataset of input values.\n",
    "- **Expected output:** The expected output for each input value.\n",
    "- **Learning rate:** The learning rate is used to control how much the weights are adjusted during training.\n",
    "- **Epochs:** The number of epochs is the number of times the Perceptron is trained on the dataset."
   ]
  },
  {
   "cell_type": "code",
   "execution_count": 4,
   "metadata": {},
   "outputs": [],
   "source": [
    "# Perceptron algorithm\n",
    "def perceptron_algorithm(dataset, expected_output, learning_rate, epochs):\n",
    "    # Random weights with 3 elements (2 for the dataset and 1 for the bias)\n",
    "    weights = np.random.rand(3)\n",
    "    # List to store the errors\n",
    "    errors = []\n",
    "\n",
    "    # Epochs define how many times the algorithm will run\n",
    "    for epoch in range(epochs):\n",
    "        total_error = 0\n",
    "        # Iterate over the dataset\n",
    "        for i in range(len(dataset)):\n",
    "            # Insert the bias into the dataset\n",
    "            x = np.insert(dataset[i], 0, 1)\n",
    "            # Calculate the output using the activation function\n",
    "            y = activation_function(np.dot(x, weights))\n",
    "            # Calculate the error using the expected output\n",
    "            error = expected_output[i] - y\n",
    "            # Update the weights\n",
    "            weights += learning_rate * error * x\n",
    "            # Sum the error to the total error\n",
    "            total_error += error\n",
    "        # Print the epoch, input, weights, output and error\n",
    "        print(f\"Epoch {epoch + 1}/{epochs}, x: {x}, weights: {weights}, y: {y}, error: {error}\")\n",
    "        # Append the total error to the errors list\n",
    "        errors.append(total_error)\n",
    "    return weights, errors"
   ]
  },
  {
   "cell_type": "markdown",
   "metadata": {},
   "source": [
    "### Training the Perceptron\n",
    "We are going to train the Perceptron using the dataset and the expected output. We are going to use a learning rate of 0.1 and 100 epochs."
   ]
  },
  {
   "cell_type": "code",
   "execution_count": 5,
   "metadata": {},
   "outputs": [
    {
     "name": "stdout",
     "output_type": "stream",
     "text": [
      "Epoch 1/100, x: [ 1.          1.48257427 -0.33214964], weights: [0.67896301 0.16105381 0.7177128 ], y: 0.4636022982353689, error: 0.5363977017646311\n",
      "Epoch 2/100, x: [ 1.          1.48257427 -0.33214964], weights: [0.82686996 0.24631664 0.65581369], y: 0.7046713146629855, error: 0.2953286853370145\n",
      "Epoch 3/100, x: [ 1.          1.48257427 -0.33214964], weights: [0.90511572 0.30465893 0.66253126], y: 0.7882015854804906, error: 0.21179841451950943\n",
      "Epoch 4/100, x: [ 1.          1.48257427 -0.33214964], weights: [0.9573239  0.34093923 0.69055526], y: 0.8261578445298302, error: 0.1738421554701698\n",
      "Epoch 5/100, x: [ 1.          1.48257427 -0.33214964], weights: [0.99884155 0.36461139 0.72153015], y: 0.848146326205305, error: 0.15185367379469505\n",
      "Epoch 6/100, x: [ 1.          1.48257427 -0.33214964], weights: [1.03438373 0.38151147 0.75058021], y: 0.8631093041109021, error: 0.13689069588909786\n",
      "Epoch 7/100, x: [ 1.          1.48257427 -0.33214964], weights: [1.06568991 0.39467758 0.77676972], y: 0.8743492487383292, error: 0.1256507512616708\n",
      "Epoch 8/100, x: [ 1.          1.48257427 -0.33214964], weights: [1.09363442 0.40562405 0.80020724], y: 0.8833042805408617, error: 0.11669571945913826\n",
      "Epoch 9/100, x: [ 1.          1.48257427 -0.33214964], weights: [1.11878685 0.41511373 0.82123   ], y: 0.8906976193139857, error: 0.10930238068601428\n",
      "Epoch 10/100, x: [ 1.          1.48257427 -0.33214964], weights: [1.14157208 0.42355029 0.84018141], y: 0.8969425176962303, error: 0.10305748230376965\n",
      "Epoch 11/100, x: [ 1.          1.48257427 -0.33214964], weights: [1.16232525 0.431165   0.85735867], y: 0.9023013314194019, error: 0.09769866858059806\n",
      "Epoch 12/100, x: [ 1.          1.48257427 -0.33214964], weights: [1.18131705 0.43810362 0.87300783], y: 0.9069543477727258, error: 0.09304565222727423\n",
      "Epoch 13/100, x: [ 1.          1.48257427 -0.33214964], weights: [1.19876918 0.44446701 0.88733072], y: 0.9110325861119282, error: 0.08896741388807183\n",
      "Epoch 14/100, x: [ 1.          1.48257427 -0.33214964], weights: [1.21486516 0.45033044 0.90049345], y: 0.914635022143258, error: 0.08536497785674202\n",
      "Epoch 15/100, x: [ 1.          1.48257427 -0.33214964], weights: [1.22975843 0.45575325 0.9126338 ], y: 0.9178384963137667, error: 0.08216150368623332\n",
      "Epoch 16/100, x: [ 1.          1.48257427 -0.33214964], weights: [1.24357845 0.46078398 0.92386705], y: 0.920703877517611, error: 0.07929612248238904\n",
      "Epoch 17/100, x: [ 1.          1.48257427 -0.33214964], weights: [1.25643543 0.46546328 0.93429058], y: 0.9232801425108347, error: 0.07671985748916532\n",
      "Epoch 18/100, x: [ 1.          1.48257427 -0.33214964], weights: [1.26842393 0.4698258  0.94398735], y: 0.9256072048474904, error: 0.07439279515250963\n",
      "Epoch 19/100, x: [ 1.          1.48257427 -0.33214964], weights: [1.27962571 0.47390136 0.95302859], y: 0.9277179456011492, error: 0.07228205439885083\n",
      "Epoch 20/100, x: [ 1.          1.48257427 -0.33214964], weights: [1.29011194 0.47771594 0.96147593], y: 0.929639709290016, error: 0.07036029070998395\n",
      "Epoch 21/100, x: [ 1.          1.48257427 -0.33214964], weights: [1.29994496 0.48129224 0.96938305], y: 0.9313954280727137, error: 0.0686045719272863\n",
      "Epoch 22/100, x: [ 1.          1.48257427 -0.33214964], weights: [1.30917968 0.48465031 0.97679698], y: 0.9330044802430056, error: 0.06699551975699436\n",
      "Epoch 23/100, x: [ 1.          1.48257427 -0.33214964], weights: [1.31786472 0.48780787 0.98375918], y: 0.9344833546524166, error: 0.06551664534758339\n",
      "Epoch 24/100, x: [ 1.          1.48257427 -0.33214964], weights: [1.32604336 0.49078073 0.99030637], y: 0.9358461708999981, error: 0.06415382910000189\n",
      "Epoch 25/100, x: [ 1.          1.48257427 -0.33214964], weights: [1.33375427 0.49358301 0.99647124], y: 0.9371050907755285, error: 0.0628949092244715\n",
      "Epoch 26/100, x: [ 1.          1.48257427 -0.33214964], weights: [1.34103214 0.49622739 1.00228298], y: 0.9382706466936224, error: 0.06172935330637763\n",
      "Epoch 27/100, x: [ 1.          1.48257427 -0.33214964], weights: [1.34790824 0.49872528 1.00776784], y: 0.9393520060727283, error: 0.060647993927271715\n",
      "Epoch 28/100, x: [ 1.          1.48257427 -0.33214964], weights: [1.35441083 0.50108702 1.01294943], y: 0.9403571858003774, error: 0.059642814199622585\n",
      "Epoch 29/100, x: [ 1.          1.48257427 -0.33214964], weights: [1.36056554 0.50332197 1.01784911], y: 0.9412932274565676, error: 0.05870677254343237\n",
      "Epoch 30/100, x: [ 1.          1.48257427 -0.33214964], weights: [1.36639568 0.50543865 1.02248624], y: 0.942166341431684, error: 0.057833658568316015\n",
      "Epoch 31/100, x: [ 1.          1.48257427 -0.33214964], weights: [1.37192252 0.50744483 1.02687845], y: 0.9429820262002793, error: 0.057017973799720734\n",
      "Epoch 32/100, x: [ 1.          1.48257427 -0.33214964], weights: [1.3771655  0.50934763 1.0310418 ], y: 0.9437451676105442, error: 0.05625483238945583\n",
      "Epoch 33/100, x: [ 1.          1.48257427 -0.33214964], weights: [1.38214248 0.51115357 1.034991  ], y: 0.944460121991633, error: 0.055539878008367016\n",
      "Epoch 34/100, x: [ 1.          1.48257427 -0.33214964], weights: [1.38686982 0.51286863 1.03873953], y: 0.9451307860757072, error: 0.05486921392429278\n",
      "Epoch 35/100, x: [ 1.          1.48257427 -0.33214964], weights: [1.39136265 0.51449832 1.04229977], y: 0.9457606561133348, error: 0.05423934388666518\n",
      "Epoch 36/100, x: [ 1.          1.48257427 -0.33214964], weights: [1.39563488 0.51604775 1.04568313], y: 0.9463528780826082, error: 0.05364712191739185\n",
      "Epoch 37/100, x: [ 1.          1.48257427 -0.33214964], weights: [1.39969941 0.51752161 1.04890013], y: 0.9469102905196544, error: 0.05308970948034564\n",
      "Epoch 38/100, x: [ 1.          1.48257427 -0.33214964], weights: [1.40356817 0.51892427 1.05196052], y: 0.9474354612058136, error: 0.05256453879418643\n",
      "Epoch 39/100, x: [ 1.          1.48257427 -0.33214964], weights: [1.40725225 0.52025977 1.0548733 ], y: 0.9479307187158761, error: 0.052069281284123914\n",
      "Epoch 40/100, x: [ 1.          1.48257427 -0.33214964], weights: [1.41076193 0.52153187 1.05764685], y: 0.9483981796483353, error: 0.05160182035166472\n",
      "Epoch 41/100, x: [ 1.          1.48257427 -0.33214964], weights: [1.41410681 0.52274407 1.06028894], y: 0.9488397722120449, error: 0.05116022778795515\n",
      "Epoch 42/100, x: [ 1.          1.48257427 -0.33214964], weights: [1.41729581 0.52389962 1.06280681], y: 0.9492572567258993, error: 0.050742743274100666\n",
      "Epoch 43/100, x: [ 1.          1.48257427 -0.33214964], weights: [1.42033729 0.52500157 1.0652072 ], y: 0.9496522434930362, error: 0.05034775650696377\n",
      "Epoch 44/100, x: [ 1.          1.48257427 -0.33214964], weights: [1.42323903 0.52605277 1.06749642], y: 0.9500262084338482, error: 0.04997379156615178\n",
      "Epoch 45/100, x: [ 1.          1.48257427 -0.33214964], weights: [1.42600834 0.52705586 1.06968034], y: 0.9503805067991211, error: 0.049619493200878884\n",
      "Epoch 46/100, x: [ 1.          1.48257427 -0.33214964], weights: [1.42865206 0.52801336 1.07176449], y: 0.9507163852330183, error: 0.04928361476698173\n",
      "Epoch 47/100, x: [ 1.          1.48257427 -0.33214964], weights: [1.4311766  0.52892759 1.07375401], y: 0.9510349924131744, error: 0.04896500758682565\n",
      "Epoch 48/100, x: [ 1.          1.48257427 -0.33214964], weights: [1.43358798 0.52980074 1.07565375], y: 0.9513373884600833, error: 0.04866261153991669\n",
      "Epoch 49/100, x: [ 1.          1.48257427 -0.33214964], weights: [1.43589186 0.53063489 1.07746826], y: 0.9516245532788564, error: 0.04837544672114358\n",
      "Epoch 50/100, x: [ 1.          1.48257427 -0.33214964], weights: [1.43809358 0.53143196 1.0792018 ], y: 0.9518973939721957, error: 0.04810260602780425\n",
      "Epoch 51/100, x: [ 1.          1.48257427 -0.33214964], weights: [1.44019815 0.5321938  1.08085839], y: 0.952156751443161, error: 0.04784324855683897\n",
      "Epoch 52/100, x: [ 1.          1.48257427 -0.33214964], weights: [1.44221029 0.5329221  1.08244182], y: 0.9524034062893262, error: 0.04759659371067382\n",
      "Epoch 53/100, x: [ 1.          1.48257427 -0.33214964], weights: [1.44413446 0.53361851 1.08395565], y: 0.9526380840756101, error: 0.047361915924389875\n",
      "Epoch 54/100, x: [ 1.          1.48257427 -0.33214964], weights: [1.44597489 0.53428455 1.08540324], y: 0.9528614600609989, error: 0.04713853993900108\n",
      "Epoch 55/100, x: [ 1.          1.48257427 -0.33214964], weights: [1.44773554 0.53492166 1.08678778], y: 0.9530741634441432, error: 0.046925836555856804\n",
      "Epoch 56/100, x: [ 1.          1.48257427 -0.33214964], weights: [1.44942017 0.53553122 1.08811225], y: 0.9532767811841261, error: 0.046723218815873935\n",
      "Epoch 57/100, x: [ 1.          1.48257427 -0.33214964], weights: [1.45103234 0.53611451 1.0893795 ], y: 0.9534698614452954, error: 0.04653013855470456\n",
      "Epoch 58/100, x: [ 1.          1.48257427 -0.33214964], weights: [1.45257542 0.53667277 1.0905922 ], y: 0.9536539167087223, error: 0.04634608329127765\n",
      "Epoch 59/100, x: [ 1.          1.48257427 -0.33214964], weights: [1.45405261 0.53720715 1.09175289], y: 0.9538294265874324, error: 0.046170573412567584\n",
      "Epoch 60/100, x: [ 1.          1.48257427 -0.33214964], weights: [1.45546691 0.53771875 1.09286398], y: 0.9539968403778968, error: 0.04600315962210322\n",
      "Epoch 61/100, x: [ 1.          1.48257427 -0.33214964], weights: [1.45682121 0.53820861 1.09392774], y: 0.9541565793762626, error: 0.04584342062373736\n",
      "Epoch 62/100, x: [ 1.          1.48257427 -0.33214964], weights: [1.45811822 0.53867772 1.09494634], y: 0.9543090389843374, error: 0.04569096101566261\n",
      "Epoch 63/100, x: [ 1.          1.48257427 -0.33214964], weights: [1.45936052 0.53912701 1.09592183], y: 0.9544545906273496, error: 0.04554540937265039\n",
      "Epoch 64/100, x: [ 1.          1.48257427 -0.33214964], weights: [1.46055057 0.53955739 1.09685615], y: 0.9545935835029086, error: 0.04540641649709143\n",
      "Epoch 65/100, x: [ 1.          1.48257427 -0.33214964], weights: [1.4616907  0.53996968 1.09775114], y: 0.9547263461783256, error: 0.045273653821674364\n",
      "Epoch 66/100, x: [ 1.          1.48257427 -0.33214964], weights: [1.46278313 0.54036471 1.09860858], y: 0.9548531880514958, error: 0.04514681194850423\n",
      "Epoch 67/100, x: [ 1.          1.48257427 -0.33214964], weights: [1.46382996 0.54074323 1.09943012], y: 0.954974400688818, error: 0.045025599311181996\n",
      "Epoch 68/100, x: [ 1.          1.48257427 -0.33214964], weights: [1.46483319 0.54110596 1.10021735], y: 0.9550902590521307, error: 0.04490974094786926\n",
      "Epoch 69/100, x: [ 1.          1.48257427 -0.33214964], weights: [1.46579475 0.54145361 1.10097178], y: 0.9552010226253242, error: 0.04479897737467575\n",
      "Epoch 70/100, x: [ 1.          1.48257427 -0.33214964], weights: [1.46671643 0.54178683 1.10169485], y: 0.9553069364501334, error: 0.044693063549866574\n",
      "Epoch 71/100, x: [ 1.          1.48257427 -0.33214964], weights: [1.46759999 0.54210625 1.10238794], y: 0.955408232079599, error: 0.04459176792040098\n",
      "Epoch 72/100, x: [ 1.          1.48257427 -0.33214964], weights: [1.46844706 0.54241247 1.10305233], y: 0.9555051284567875, error: 0.04449487154321252\n",
      "Epoch 73/100, x: [ 1.          1.48257427 -0.33214964], weights: [1.46925922 0.54270606 1.10368928], y: 0.9555978327255713, error: 0.044402167274428694\n",
      "Epoch 74/100, x: [ 1.          1.48257427 -0.33214964], weights: [1.47003797 0.54298756 1.10429997], y: 0.9556865409795666, error: 0.04431345902043338\n",
      "Epoch 75/100, x: [ 1.          1.48257427 -0.33214964], weights: [1.47078474 0.54325748 1.10488552], y: 0.9557714389547128, error: 0.04422856104528716\n",
      "Epoch 76/100, x: [ 1.          1.48257427 -0.33214964], weights: [1.47150089 0.54351633 1.10544702], y: 0.9558527026704208, error: 0.04414729732957923\n",
      "Epoch 77/100, x: [ 1.          1.48257427 -0.33214964], weights: [1.47218772 0.54376458 1.10598549], y: 0.9559304990237342, error: 0.04406950097626583\n",
      "Epoch 78/100, x: [ 1.          1.48257427 -0.33214964], weights: [1.47284648 0.54400267 1.10650191], y: 0.9560049863405099, error: 0.0439950136594901\n",
      "Epoch 79/100, x: [ 1.          1.48257427 -0.33214964], weights: [1.47347836 0.54423104 1.10699721], y: 0.9560763148872377, error: 0.043923685112762345\n",
      "Epoch 80/100, x: [ 1.          1.48257427 -0.33214964], weights: [1.47408449 0.5444501  1.1074723 ], y: 0.9561446273467719, error: 0.04385537265322814\n",
      "Epoch 81/100, x: [ 1.          1.48257427 -0.33214964], weights: [1.47466595 0.54466023 1.10792802], y: 0.9562100592609413, error: 0.04378994073905873\n",
      "Epoch 82/100, x: [ 1.          1.48257427 -0.33214964], weights: [1.47522377 0.54486182 1.10836518], y: 0.9562727394427232, error: 0.043727260557276826\n",
      "Epoch 83/100, x: [ 1.          1.48257427 -0.33214964], weights: [1.47575895 0.54505521 1.10878457], y: 0.9563327903604237, error: 0.043667209639576265\n",
      "Epoch 84/100, x: [ 1.          1.48257427 -0.33214964], weights: [1.47627243 0.54524077 1.10918694], y: 0.9563903284960799, error: 0.043609671503920144\n",
      "Epoch 85/100, x: [ 1.          1.48257427 -0.33214964], weights: [1.47676512 0.5454188  1.10957298], y: 0.9564454646801014, error: 0.04355453531989861\n",
      "Epoch 86/100, x: [ 1.          1.48257427 -0.33214964], weights: [1.47723787 0.54558962 1.10994338], y: 0.956498304403992, error: 0.04350169559600803\n",
      "Epoch 87/100, x: [ 1.          1.48257427 -0.33214964], weights: [1.47769151 0.54575354 1.1102988 ], y: 0.9565489481128221, error: 0.043451051887177905\n",
      "Epoch 88/100, x: [ 1.          1.48257427 -0.33214964], weights: [1.47812685 0.54591084 1.11063985], y: 0.9565974914789857, error: 0.04340250852101435\n",
      "Epoch 89/100, x: [ 1.          1.48257427 -0.33214964], weights: [1.47854462 0.54606179 1.11096712], y: 0.9566440256586373, error: 0.043355974341362735\n",
      "Epoch 90/100, x: [ 1.          1.48257427 -0.33214964], weights: [1.47894556 0.54620665 1.1112812 ], y: 0.956688637532089, error: 0.04331136246791101\n",
      "Epoch 91/100, x: [ 1.          1.48257427 -0.33214964], weights: [1.47933035 0.54634568 1.11158261], y: 0.956731409929336, error: 0.04326859007066397\n",
      "Epoch 92/100, x: [ 1.          1.48257427 -0.33214964], weights: [1.47969967 0.54647911 1.11187189], y: 0.9567724218417861, error: 0.043227578158213875\n",
      "Epoch 93/100, x: [ 1.          1.48257427 -0.33214964], weights: [1.48005414 0.54660718 1.11214953], y: 0.9568117486211752, error: 0.04318825137882476\n",
      "Epoch 94/100, x: [ 1.          1.48257427 -0.33214964], weights: [1.48039438 0.5467301  1.112416  ], y: 0.9568494621665746, error: 0.04315053783342537\n",
      "Epoch 95/100, x: [ 1.          1.48257427 -0.33214964], weights: [1.48072096 0.54684809 1.11267178], y: 0.9568856311003192, error: 0.04311436889968079\n",
      "Epoch 96/100, x: [ 1.          1.48257427 -0.33214964], weights: [1.48103445 0.54696135 1.11291729], y: 0.9569203209336233, error: 0.043079679066376664\n",
      "Epoch 97/100, x: [ 1.          1.48257427 -0.33214964], weights: [1.48133537 0.54707006 1.11315295], y: 0.9569535942225841, error: 0.04304640577741592\n",
      "Epoch 98/100, x: [ 1.          1.48257427 -0.33214964], weights: [1.48162424 0.54717442 1.11337916], y: 0.9569855107152264, error: 0.04301448928477358\n",
      "Epoch 99/100, x: [ 1.          1.48257427 -0.33214964], weights: [1.48190155 0.5472746  1.11359631], y: 0.9570161274901824, error: 0.04298387250981761\n",
      "Epoch 100/100, x: [ 1.          1.48257427 -0.33214964], weights: [1.48216777 0.54737077 1.11380478], y: 0.9570454990875629, error: 0.04295450091243713\n"
     ]
    }
   ],
   "source": [
    "# Training the Perceptron\n",
    "learning_rate = 0.1\n",
    "epochs = 100\n",
    "weights, errors = perceptron_algorithm(dataset, expected_output, learning_rate, epochs)"
   ]
  },
  {
   "cell_type": "markdown",
   "metadata": {},
   "source": [
    "### Plotting the errors\n",
    "We are going to plot the errors to see how the Perceptron is trained."
   ]
  },
  {
   "cell_type": "code",
   "execution_count": 6,
   "metadata": {},
   "outputs": [
    {
     "data": {
      "image/png": "[encoded data removed]",
      "text/plain": [
       "<Figure size 432x288 with 1 Axes>"
      ]
     },
     "metadata": {
      "needs_background": "light"
     },
     "output_type": "display_data"
    }
   ],
   "source": [
    "# Plotting the errors\n",
    "plt.plot(errors)\n",
    "plt.xlabel('Epochs')\n",
    "plt.ylabel('Total Error')\n",
    "plt.show()"
   ]
  },
  {
   "cell_type": "markdown",
   "metadata": {},
   "source": [
    "### Testing the Perceptron\n",
    "We are going to test the Perceptron using the same dataset. We are going to compare the output of the Perceptron to the expected output to see how well the Perceptron has been trained."
   ]
  },
  {
   "cell_type": "code",
   "execution_count": 7,
   "metadata": {},
   "outputs": [
    {
     "name": "stdout",
     "output_type": "stream",
     "text": [
      "Test, x: [ 1.         -0.68887289 -0.10803612], y: 0.7551224205565439\n",
      "Accepted\n"
     ]
    }
   ],
   "source": [
    "# First, an array new_person is created with the data of the new person,\n",
    "# which in this case are the age (33) and the salary (80000).\n",
    "new_person = np.array([33, 80000])\n",
    "# Then, these data are normalized using the same scaler object that was used to normalize\n",
    "# the training data. It is important to use the same scaler object to ensure that\n",
    "# the data is transformed in the same way.\n",
    "new_person = scaler.transform([new_person])\n",
    "# Next, a 1 is inserted at the beginning of the normalized array.\n",
    "# This corresponds to the bias in the perceptron model, which allows the model to move the\n",
    "# activation function to the left or right, providing more flexibility to the model.\n",
    "x = np.insert(new_person[0], 0, 1)\n",
    "# Then, the dot product of this array and the model weights is calculated,\n",
    "# and the result is passed to the activation function. This produces the model's output y,\n",
    "# which is the predicted classification for the new person.\n",
    "y = activation_function(np.dot(x, weights))\n",
    "# Finally, the array x and the output y are printed.\n",
    "print(f\"Test, x: {x}, y: {y}\")\n",
    "# Also print if the person is accepted or not\n",
    "print(\"Accepted\" if y > 0 else \"Not accepted\")"
   ]
  }
 ],
 "metadata": {
  "kernelspec": {
   "display_name": "base",
   "language": "python",
   "name": "python3"
  },
  "language_info": {
   "codemirror_mode": {
    "name": "ipython",
    "version": 3
   },
   "file_extension": ".py",
   "mimetype": "text/x-python",
   "name": "python",
   "nbconvert_exporter": "python",
   "pygments_lexer": "ipython3",
   "version": "3.8.8"
  }
 },
 "nbformat": 4,
 "nbformat_minor": 2
}
